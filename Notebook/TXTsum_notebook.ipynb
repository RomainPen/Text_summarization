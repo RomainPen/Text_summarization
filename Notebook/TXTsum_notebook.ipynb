{
 "cells": [
  {
   "cell_type": "markdown",
   "metadata": {},
   "source": [
    "# Conversation summarization project (BART and T5)"
   ]
  },
  {
   "cell_type": "raw",
   "metadata": {},
   "source": [
    "df_train : set for training (train part), 100% of conv_train.parquet\n",
    "df_val1 : set for training (val part), 100% of conv_val.parquet\n",
    "df_val2 : set for model validation, 100% of conv_test.parquet\n",
    "\n",
    "df_val2_test (imported later): same set of the df_val2, but use for deployment testing, 100% of conv_test.parquet"
   ]
  },
  {
   "cell_type": "markdown",
   "metadata": {},
   "source": [
    "## 1/ Import package"
   ]
  },
  {
   "cell_type": "code",
   "execution_count": 1,
   "metadata": {},
   "outputs": [
    {
     "data": {
      "text/plain": [
       "'c:\\\\Users\\\\romai\\\\Bureau\\\\DATA_SCIENCE\\\\PROJET_perso\\\\NLP\\\\Text_Summarization\\\\Text_summarization\\\\Notebook'"
      ]
     },
     "execution_count": 1,
     "metadata": {},
     "output_type": "execute_result"
    }
   ],
   "source": [
    "import pandas as pd\n",
    "import os \n",
    "os.getcwd()"
   ]
  },
  {
   "cell_type": "markdown",
   "metadata": {},
   "source": [
    "## 2/ Collect data"
   ]
  },
  {
   "cell_type": "code",
   "execution_count": 2,
   "metadata": {},
   "outputs": [
    {
     "data": {
      "text/html": [
       "<div>\n",
       "<style scoped>\n",
       "    .dataframe tbody tr th:only-of-type {\n",
       "        vertical-align: middle;\n",
       "    }\n",
       "\n",
       "    .dataframe tbody tr th {\n",
       "        vertical-align: top;\n",
       "    }\n",
       "\n",
       "    .dataframe thead th {\n",
       "        text-align: right;\n",
       "    }\n",
       "</style>\n",
       "<table border=\"1\" class=\"dataframe\">\n",
       "  <thead>\n",
       "    <tr style=\"text-align: right;\">\n",
       "      <th></th>\n",
       "      <th>id</th>\n",
       "      <th>dialogue</th>\n",
       "      <th>summary</th>\n",
       "    </tr>\n",
       "  </thead>\n",
       "  <tbody>\n",
       "    <tr>\n",
       "      <th>0</th>\n",
       "      <td>13818513</td>\n",
       "      <td>Amanda: I baked  cookies. Do you want some?\\nJ...</td>\n",
       "      <td>Amanda baked cookies and will bring Jerry some...</td>\n",
       "    </tr>\n",
       "    <tr>\n",
       "      <th>1</th>\n",
       "      <td>13728867</td>\n",
       "      <td>Olivia: Who are you voting for in this electio...</td>\n",
       "      <td>Olivia and Olivier are voting for liberals in ...</td>\n",
       "    </tr>\n",
       "    <tr>\n",
       "      <th>2</th>\n",
       "      <td>13681000</td>\n",
       "      <td>Tim: Hi, what's up?\\nKim: Bad mood tbh, I was ...</td>\n",
       "      <td>Kim may try the pomodoro technique recommended...</td>\n",
       "    </tr>\n",
       "    <tr>\n",
       "      <th>3</th>\n",
       "      <td>13730747</td>\n",
       "      <td>Edward: Rachel, I think I'm in ove with Bella....</td>\n",
       "      <td>Edward thinks he is in love with Bella. Rachel...</td>\n",
       "    </tr>\n",
       "    <tr>\n",
       "      <th>4</th>\n",
       "      <td>13728094</td>\n",
       "      <td>Sam: hey  overheard rick say something\\nSam: i...</td>\n",
       "      <td>Sam is confused, because he overheard Rick com...</td>\n",
       "    </tr>\n",
       "    <tr>\n",
       "      <th>...</th>\n",
       "      <td>...</td>\n",
       "      <td>...</td>\n",
       "      <td>...</td>\n",
       "    </tr>\n",
       "    <tr>\n",
       "      <th>14727</th>\n",
       "      <td>13863028</td>\n",
       "      <td>Romeo: You are on my ‘People you may know’ lis...</td>\n",
       "      <td>Romeo is trying to get Greta to add him to her...</td>\n",
       "    </tr>\n",
       "    <tr>\n",
       "      <th>14728</th>\n",
       "      <td>13828570</td>\n",
       "      <td>Theresa: &lt;file_photo&gt;\\nTheresa: &lt;file_photo&gt;\\n...</td>\n",
       "      <td>Theresa is at work. She gets free food and fre...</td>\n",
       "    </tr>\n",
       "    <tr>\n",
       "      <th>14729</th>\n",
       "      <td>13819050</td>\n",
       "      <td>John: Every day some bad news. Japan will hunt...</td>\n",
       "      <td>Japan is going to hunt whales again. Island an...</td>\n",
       "    </tr>\n",
       "    <tr>\n",
       "      <th>14730</th>\n",
       "      <td>13828395</td>\n",
       "      <td>Jennifer: Dear Celia! How are you doing?\\nJenn...</td>\n",
       "      <td>Celia couldn't make it to the afternoon with t...</td>\n",
       "    </tr>\n",
       "    <tr>\n",
       "      <th>14731</th>\n",
       "      <td>13729017</td>\n",
       "      <td>Georgia: are you ready for hotel hunting? We n...</td>\n",
       "      <td>Georgia and Juliette are looking for a hotel i...</td>\n",
       "    </tr>\n",
       "  </tbody>\n",
       "</table>\n",
       "<p>14732 rows × 3 columns</p>\n",
       "</div>"
      ],
      "text/plain": [
       "             id                                           dialogue  \\\n",
       "0      13818513  Amanda: I baked  cookies. Do you want some?\\nJ...   \n",
       "1      13728867  Olivia: Who are you voting for in this electio...   \n",
       "2      13681000  Tim: Hi, what's up?\\nKim: Bad mood tbh, I was ...   \n",
       "3      13730747  Edward: Rachel, I think I'm in ove with Bella....   \n",
       "4      13728094  Sam: hey  overheard rick say something\\nSam: i...   \n",
       "...         ...                                                ...   \n",
       "14727  13863028  Romeo: You are on my ‘People you may know’ lis...   \n",
       "14728  13828570  Theresa: <file_photo>\\nTheresa: <file_photo>\\n...   \n",
       "14729  13819050  John: Every day some bad news. Japan will hunt...   \n",
       "14730  13828395  Jennifer: Dear Celia! How are you doing?\\nJenn...   \n",
       "14731  13729017  Georgia: are you ready for hotel hunting? We n...   \n",
       "\n",
       "                                                 summary  \n",
       "0      Amanda baked cookies and will bring Jerry some...  \n",
       "1      Olivia and Olivier are voting for liberals in ...  \n",
       "2      Kim may try the pomodoro technique recommended...  \n",
       "3      Edward thinks he is in love with Bella. Rachel...  \n",
       "4      Sam is confused, because he overheard Rick com...  \n",
       "...                                                  ...  \n",
       "14727  Romeo is trying to get Greta to add him to her...  \n",
       "14728  Theresa is at work. She gets free food and fre...  \n",
       "14729  Japan is going to hunt whales again. Island an...  \n",
       "14730  Celia couldn't make it to the afternoon with t...  \n",
       "14731  Georgia and Juliette are looking for a hotel i...  \n",
       "\n",
       "[14732 rows x 3 columns]"
      ]
     },
     "execution_count": 2,
     "metadata": {},
     "output_type": "execute_result"
    }
   ],
   "source": [
    "# import data (training part) : \n",
    "\n",
    "df_train = pd.read_parquet(r\"..\\Data\\training_data\\conv_train.parquet\", engine=\"pyarrow\")\n",
    "df_val1 = pd.read_parquet(r\"..\\Data\\training_data\\conv_val.parquet\", engine=\"pyarrow\")\n",
    "df_val2 = pd.read_parquet(r\"..\\Data\\training_data\\conv_test.parquet\", engine=\"pyarrow\")\n",
    "\n",
    "df_train"
   ]
  },
  {
   "cell_type": "code",
   "execution_count": 3,
   "metadata": {},
   "outputs": [
    {
     "name": "stdout",
     "output_type": "stream",
     "text": [
      "dialogue : \n",
      "Lucas: Hey! How was your day?\n",
      "Demi: Hey there! \n",
      "Demi: It was pretty fine, actually, thank you!\n",
      "Demi: I just got promoted! :D\n",
      "Lucas: Whoa! Great news!\n",
      "Lucas: Congratulations!\n",
      "Lucas: Such a success has to be celebrated.\n",
      "Demi: I agree! :D\n",
      "Demi: Tonight at Death & Co.?\n",
      "Lucas: Sure!\n",
      "Lucas: See you there at 10pm?\n",
      "Demi: Yeah! See you there! :D\n",
      " \n",
      "summary : \n",
      "Demi got promoted. She will celebrate that with Lucas at Death & Co at 10 pm.\n"
     ]
    }
   ],
   "source": [
    "# Analyse some examples :\n",
    "def print_example(df, txt_id) : \n",
    "    print(f\"dialogue : \\n{df[\"dialogue\"].loc[txt_id]}\")\n",
    "    print(\" \")\n",
    "    print(f\"summary : \\n{df[\"summary\"].loc[txt_id]}\")\n",
    "\n",
    "print_example(df_train, 10)"
   ]
  },
  {
   "cell_type": "markdown",
   "metadata": {},
   "source": [
    "## 3/ Split df into df_train/df_val1/df_val2 : (already done)"
   ]
  },
  {
   "cell_type": "code",
   "execution_count": null,
   "metadata": {},
   "outputs": [],
   "source": []
  },
  {
   "cell_type": "markdown",
   "metadata": {},
   "source": [
    "## 4.1/ Data cleaning 1"
   ]
  },
  {
   "cell_type": "code",
   "execution_count": 4,
   "metadata": {},
   "outputs": [],
   "source": [
    "# Check and rename col name : #Not needed\n",
    "#df_train.rename(columns={\"A\": \"a\", \"B\": \"c\"})\n",
    "#df_val1.rename(columns={\"A\": \"a\", \"B\": \"c\"})\n",
    "#df_val2.rename(columns={\"A\": \"a\", \"B\": \"c\"})\n"
   ]
  },
  {
   "cell_type": "code",
   "execution_count": 5,
   "metadata": {},
   "outputs": [
    {
     "name": "stdout",
     "output_type": "stream",
     "text": [
      "train\n",
      "id : object\n",
      "dialogue : object\n",
      "summary : object\n",
      " \n",
      "val\n",
      "id : object\n",
      "dialogue : object\n",
      "summary : object\n",
      " \n",
      "test\n",
      "id : object\n",
      "dialogue : object\n",
      "summary : object\n"
     ]
    }
   ],
   "source": [
    "# Check type of col : #All good\n",
    "print(\"train\")\n",
    "for i in df_train.columns :\n",
    "    print(f'{i} : {df_train[i].dtypes}')\n",
    "\n",
    "print(\" \")\n",
    "print(\"val\")\n",
    "for i in df_val1.columns :\n",
    "    print(f'{i} : {df_val1[i].dtypes}')\n",
    "\n",
    "print(\" \")\n",
    "print(\"test\")\n",
    "for i in df_val2.columns :\n",
    "    print(f'{i} : {df_val2[i].dtypes}')"
   ]
  },
  {
   "cell_type": "markdown",
   "metadata": {},
   "source": [
    "## 4.2/ Data cleaning 2"
   ]
  },
  {
   "cell_type": "code",
   "execution_count": 6,
   "metadata": {},
   "outputs": [
    {
     "name": "stderr",
     "output_type": "stream",
     "text": [
      "c:\\Users\\romai\\Bureau\\DATA_SCIENCE\\PROJET_perso\\NLP\\Text_Summarization\\Text_summarization\\txtsum_env\\Lib\\site-packages\\tqdm\\auto.py:21: TqdmWarning: IProgress not found. Please update jupyter and ipywidgets. See https://ipywidgets.readthedocs.io/en/stable/user_install.html\n",
      "  from .autonotebook import tqdm as notebook_tqdm\n"
     ]
    },
    {
     "data": {
      "text/plain": [
       "Dataset({\n",
       "    features: ['id', 'dialogue', 'summary'],\n",
       "    num_rows: 14732\n",
       "})"
      ]
     },
     "execution_count": 6,
     "metadata": {},
     "output_type": "execute_result"
    }
   ],
   "source": [
    "# Convert df (pandas df format) to Dataset (huggingface format) :\n",
    "from datasets import Dataset\n",
    "\n",
    "dataset_train = Dataset.from_pandas(df_train)\n",
    "dataset_val1 = Dataset.from_pandas(df_val1)\n",
    "dataset_val2 = Dataset.from_pandas(df_val2)\n",
    "\n",
    "dataset_train"
   ]
  },
  {
   "cell_type": "code",
   "execution_count": 7,
   "metadata": {},
   "outputs": [
    {
     "data": {
      "text/plain": [
       "DatasetDict({\n",
       "    train: Dataset({\n",
       "        features: ['id', 'dialogue', 'summary'],\n",
       "        num_rows: 14732\n",
       "    })\n",
       "    val1: Dataset({\n",
       "        features: ['id', 'dialogue', 'summary'],\n",
       "        num_rows: 818\n",
       "    })\n",
       "    val2: Dataset({\n",
       "        features: ['id', 'dialogue', 'summary'],\n",
       "        num_rows: 819\n",
       "    })\n",
       "})"
      ]
     },
     "execution_count": 7,
     "metadata": {},
     "output_type": "execute_result"
    }
   ],
   "source": [
    "# Concat \"dataset_train, dataset_val, dataset_test\" into a DatasetDict : \n",
    "from datasets import DatasetDict\n",
    "Datadict = DatasetDict()\n",
    "\n",
    "Datadict['train'] = dataset_train\n",
    "Datadict['val1'] = dataset_val1\n",
    "Datadict['val2'] = dataset_val2\n",
    "\n",
    "Datadict"
   ]
  },
  {
   "cell_type": "markdown",
   "metadata": {},
   "source": [
    "# Next step"
   ]
  },
  {
   "cell_type": "markdown",
   "metadata": {},
   "source": [
    "## Mix of my bloc-notes and ChatGPT"
   ]
  },
  {
   "cell_type": "code",
   "execution_count": null,
   "metadata": {},
   "outputs": [],
   "source": [
    "# # example 1 :\n",
    "# # 2 process in one : \n",
    "# def process_example(example):\n",
    "#     summary_lower = example[\"summary\"].lower()\n",
    "#     summary_length = len(example[\"summary\"].split())\n",
    "#     return {\"summary_lower\": summary_lower, \"summary_length\": summary_length}\n",
    "\n",
    "# Datadict = Datadict.map(process_example)\n",
    "# Datadict.set_format(\"pandas\")\n",
    "# Datadict[\"train\"][:3]"
   ]
  },
  {
   "cell_type": "code",
   "execution_count": null,
   "metadata": {},
   "outputs": [],
   "source": [
    "# # example 2 :\n",
    "# # We use batched=True when we are doing a list comprehension and when the output value is a list.\n",
    "# # And when we do the tokenization\n",
    "\n",
    "# Datadict = Datadict.map(lambda x: {\"abc_list\": [i.split(\"o\") for i in x[\"abc\"]]}, batched=True)\n",
    "# Datadict.set_format(\"pandas\")\n",
    "# Datadict[\"train\"][:3]"
   ]
  },
  {
   "cell_type": "code",
   "execution_count": null,
   "metadata": {},
   "outputs": [],
   "source": []
  },
  {
   "cell_type": "code",
   "execution_count": null,
   "metadata": {},
   "outputs": [],
   "source": [
    "# Basic treatment (drop duplicate, clean text, ...so on) : \n",
    "def basic_treatment(df :pd.DataFrame, useless_columns : list, drop_duplicate=True) -> pd.DataFrame:\n",
    "    \"\"\"Perform basic data treatment on a DataFrame.\n",
    "\n",
    "        This function performs basic data treatment on a given DataFrame:\n",
    "        1. Removes duplicate rows.\n",
    "        2. Drops specified useless columns.\n",
    "\n",
    "        Args:\n",
    "            df (pd.DataFrame): The input DataFrame to be treated.\n",
    "            useless_columns (set): A set of column names to be removed from the DataFrame.\n",
    "\n",
    "        Returns:\n",
    "            pd.DataFrame: A DataFrame with duplicate rows removed, specified columns dropped,\n",
    "            and string values converted to lowercase.\n",
    "    \"\"\"\n",
    "    \n",
    "    # step 1: drop duplicate\n",
    "    if drop_duplicate==True :\n",
    "        df = df.drop_duplicates()\n",
    "        df = df.reset_index(drop = True)\n",
    "\n",
    "    # step 2 : drop useless col \n",
    "    df = df.drop(list(useless_columns), axis=1)\n",
    "\n",
    "    # step 3 : lowercase caracter \n",
    "    #df = df.applymap(lambda s : s.lower() if (type(s) == str and pd.isna(s)==False) else s) #map or applymap\n",
    "\n",
    "    # step 4 : drop white space \n",
    "    df = df.applymap(lambda s : s.strip() if (isinstance(s, str) and pd.isna(s)==False) else s) \n",
    "\n",
    "    # step 5 : drop multiple(double, triple) space \n",
    "    df = df.applymap(lambda s:s.replace(\"  \", \" \") if (isinstance(s, str) and pd.isna(s)==False) else s) \n",
    "\n",
    "    # step 6 : replace \" \" by \"_\" \n",
    "    df = df.applymap(lambda s:s.replace(\" \", \"_\") if (isinstance(s, str) and pd.isna(s)==False) else s) \n",
    "\n",
    "    # step 7 : remove accent \n",
    "    #df = df.applymap(lambda s: unidecode(s) if (isinstance(s, str) and pd.isna(s)==False) else s) \n",
    "\n",
    "    return df\n"
   ]
  }
 ],
 "metadata": {
  "kernelspec": {
   "display_name": "txtsum_env",
   "language": "python",
   "name": "python3"
  },
  "language_info": {
   "codemirror_mode": {
    "name": "ipython",
    "version": 3
   },
   "file_extension": ".py",
   "mimetype": "text/x-python",
   "name": "python",
   "nbconvert_exporter": "python",
   "pygments_lexer": "ipython3",
   "version": "3.12.2"
  }
 },
 "nbformat": 4,
 "nbformat_minor": 2
}
